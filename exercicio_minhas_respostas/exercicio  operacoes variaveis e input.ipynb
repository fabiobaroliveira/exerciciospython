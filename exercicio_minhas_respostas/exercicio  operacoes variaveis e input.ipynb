{
  "cells": [
    {
      "cell_type": "markdown",
      "metadata": {
        "id": "view-in-github",
        "colab_type": "text"
      },
      "source": [
        "<a href=\"https://colab.research.google.com/github/fabiobaroliveira/exerciciospython/blob/main/exercicio_minhas_respostas/exercicio%20%20operacoes%20variaveis%20e%20input.ipynb\" target=\"_parent\"><img src=\"https://colab.research.google.com/assets/colab-badge.svg\" alt=\"Open In Colab\"/></a>"
      ]
    },
    {
      "cell_type": "markdown",
      "metadata": {
        "id": "Pi-CJIef1ul1"
      },
      "source": [
        "# Exercícios do Módulo 1 - Operações, Variáveis e Input"
      ]
    },
    {
      "cell_type": "markdown",
      "metadata": {
        "id": "FJ2bFoIx1umA"
      },
      "source": [
        "### Parte 1 - Operações e Variáveis\n",
        "Crie um programa que imprima (print) os principais indicadores da loja Hashtag&Drink no último ano.\n",
        "Obs: faça tudo usando variáveis.\n",
        "\n",
        "Valores do último ano:\n",
        "\n",
        "Quantidade de Vendas de Coca = 150<br>\n",
        "Quantidade de Vendas de Pepsi = 130<br>\n",
        "Preço Unitário da Coca = 1,50 <br>\n",
        "Preço Unitário da Pepsi = 1,50<br>\n",
        "Custo da Loja: 2.500,00\n",
        "\n",
        "Use o bloco abaixo para criar todas as variáveis que precisar."
      ]
    },
    {
      "cell_type": "code",
      "execution_count": 1,
      "metadata": {
        "id": "8ou0OBBX1umC"
      },
      "outputs": [],
      "source": [
        "qtde_vendas_coca = 150\n",
        "qtde_vendas_pepsi = 130\n",
        "preco_unit_coca = 1.50\n",
        "preco_unit_pepsi = 1.50\n",
        "custo_loja = 2500"
      ]
    },
    {
      "cell_type": "markdown",
      "metadata": {
        "id": "fW0kX-qN1umD"
      },
      "source": [
        "1. Qual foi o faturamento de Pepsi da Loja?"
      ]
    },
    {
      "cell_type": "code",
      "execution_count": 4,
      "metadata": {
        "id": "zsBMI5vg1umE",
        "outputId": "92771d61-ab1e-49cb-c315-464b34b3fc7b",
        "colab": {
          "base_uri": "https://localhost:8080/"
        }
      },
      "outputs": [
        {
          "output_type": "stream",
          "name": "stdout",
          "text": [
            "O faturamento de Pepsi foi R$ 195.00\n"
          ]
        }
      ],
      "source": [
        "faturamento_pepsi = qtde_vendas_pepsi * preco_unit_pepsi\n",
        "\n",
        "print(f'O faturamento de Pepsi foi R$ {faturamento_pepsi:.2f}')"
      ]
    },
    {
      "cell_type": "markdown",
      "metadata": {
        "id": "xgxOvmRz1umF"
      },
      "source": [
        "2. Qual foi o faturamento de Coca da Loja?"
      ]
    },
    {
      "cell_type": "code",
      "execution_count": 5,
      "metadata": {
        "id": "NpsI_giv1umG",
        "outputId": "77c0fa8b-dd9b-42a0-ec22-f361ceba6718",
        "colab": {
          "base_uri": "https://localhost:8080/"
        }
      },
      "outputs": [
        {
          "output_type": "stream",
          "name": "stdout",
          "text": [
            "O faturamento de Coca foi R$ 225.00\n"
          ]
        }
      ],
      "source": [
        "faturamento_coca = qtde_vendas_coca * preco_unit_coca\n",
        "\n",
        "print(f'O faturamento de Coca foi R$ {faturamento_coca:.2f}')"
      ]
    },
    {
      "cell_type": "markdown",
      "metadata": {
        "id": "8D_0mYbI1umH"
      },
      "source": [
        "3. Qual foi o Lucro da loja?"
      ]
    },
    {
      "cell_type": "code",
      "execution_count": 8,
      "metadata": {
        "id": "doMwJLC-1umI",
        "outputId": "44d39a9a-1783-48d4-91ea-c6662257d3cd",
        "colab": {
          "base_uri": "https://localhost:8080/"
        }
      },
      "outputs": [
        {
          "output_type": "stream",
          "name": "stdout",
          "text": [
            "O lucro da loja foi -2080\n"
          ]
        }
      ],
      "source": [
        "lucro_loja = faturamento_pepsi + faturamento_coca - custo_loja\n",
        "\n",
        "print(f'O lucro da loja foi {lucro_loja:.0f}')"
      ]
    },
    {
      "cell_type": "markdown",
      "metadata": {
        "id": "bdua5-Ct1umJ"
      },
      "source": [
        "4. Qual foi a Margem da Loja? (Lembre-se, margem = Lucro / Faturamento). Não precisa formatar em percentual"
      ]
    },
    {
      "cell_type": "code",
      "execution_count": 12,
      "metadata": {
        "id": "ySAB6BNL1umK",
        "outputId": "049ca866-e369-41e3-a7a6-e83ca0a8705b",
        "colab": {
          "base_uri": "https://localhost:8080/"
        }
      },
      "outputs": [
        {
          "output_type": "stream",
          "name": "stdout",
          "text": [
            "A margem da loja foi de -495.2%\n"
          ]
        }
      ],
      "source": [
        "margem_loja = lucro_loja / (faturamento_pepsi + faturamento_coca)\n",
        "\n",
        "print(f'A margem da loja foi de {margem_loja:.1%}')"
      ]
    },
    {
      "cell_type": "markdown",
      "metadata": {
        "id": "D1mYymiP1umL"
      },
      "source": [
        "### Parte 2 - Inputs e Strings"
      ]
    },
    {
      "cell_type": "markdown",
      "metadata": {
        "id": "mcbTaP8b1umN"
      },
      "source": [
        "A maioria das empresas trabalham com um Código para cada produto que possuem. A Hashtag&Drink, por exemplo, tem mais de 1.000 produtos e possui um código para cada produto.\n",
        "Ex:\n",
        "Coca -> Código: BEB1300543<br>\n",
        "Pepsi -> Código: BEB1300545<br>\n",
        "Vinho Primitivo Lucarelli -> Código: BAC1546001<br>\n",
        "Vodka Smirnoff -> Código: BAC17675002<br>\n",
        "\n",
        "Repare que todas as bebidas não alcóolicas tem o início do Código \"BEB\" e todas as bebidas alcóolicas tem o início do código \"BAC\".\n",
        "\n",
        "Crie um programa de consulta de bebida que, dado um código qualquer, identifique se a bebida é alcóolica. O programa deve responder True para bebidas alcóolicas e False para bebidas não alcóolicas. Para inserir um código, use um input.\n",
        "\n",
        "Dica: Lembre-se do comando in para strings e sempre insira os códigos com letra maiúscula para facilitar."
      ]
    },
    {
      "cell_type": "code",
      "execution_count": null,
      "metadata": {
        "id": "IUrYt1hs1umQ"
      },
      "outputs": [],
      "source": []
    }
  ],
  "metadata": {
    "kernelspec": {
      "display_name": "Python 3",
      "language": "python",
      "name": "python3"
    },
    "language_info": {
      "codemirror_mode": {
        "name": "ipython",
        "version": 3
      },
      "file_extension": ".py",
      "mimetype": "text/x-python",
      "name": "python",
      "nbconvert_exporter": "python",
      "pygments_lexer": "ipython3",
      "version": "3.8.3"
    },
    "colab": {
      "provenance": [],
      "include_colab_link": true
    }
  },
  "nbformat": 4,
  "nbformat_minor": 0
}