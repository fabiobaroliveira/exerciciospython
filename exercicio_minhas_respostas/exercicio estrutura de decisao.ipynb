{
  "cells": [
    {
      "cell_type": "markdown",
      "metadata": {
        "id": "view-in-github",
        "colab_type": "text"
      },
      "source": [
        "<a href=\"https://colab.research.google.com/github/fabiobaroliveira/exerciciospython/blob/main/exercicio_minhas_respostas/exercicio%20estrutura%20de%20decisao.ipynb\" target=\"_parent\"><img src=\"https://colab.research.google.com/assets/colab-badge.svg\" alt=\"Open In Colab\"/></a>"
      ]
    },
    {
      "cell_type": "markdown",
      "id": "8535c274",
      "metadata": {
        "id": "8535c274"
      },
      "source": [
        "# Estruturas de decisão\n",
        "\n",
        "<span style=\"color: red;\"><b>Todos os exercícios são feitos partindo-se do pressuposto de que todas as entradas são dadas de forma correta. Casos limite não mencionados no enunciado não são abordados porque não fazem parte do exercício.</b></span>"
      ]
    },
    {
      "cell_type": "markdown",
      "id": "9c3d817e",
      "metadata": {
        "id": "9c3d817e"
      },
      "source": [
        "#### 1. Faça um Programa que peça dois números e imprima o maior deles."
      ]
    },
    {
      "cell_type": "code",
      "source": [
        "primeiro_numero = int(input(\"Digite o primeiro número: \"))\n",
        "segundo_numero = int(input(\"Digite o segundo número: \"))\n",
        "\n",
        "if primeiro_numero > segundo_numero:\n",
        "    print(f\"O maior número é {primeiro_numero}\")\n",
        "else:\n",
        "    print(f\"O maior número é {segundo_numero}\")"
      ],
      "metadata": {
        "id": "EX4ouWiTjnya"
      },
      "id": "EX4ouWiTjnya",
      "execution_count": null,
      "outputs": []
    },
    {
      "cell_type": "markdown",
      "id": "ff510803",
      "metadata": {
        "id": "ff510803"
      },
      "source": [
        "#### 2. Faça um Programa que peça um valor e mostre na tela se o valor é positivo ou negativo."
      ]
    },
    {
      "cell_type": "code",
      "execution_count": null,
      "id": "8952f58f",
      "metadata": {
        "id": "8952f58f",
        "outputId": "c45ca886-63a6-4581-8555-de1b7ce73cfe",
        "colab": {
          "base_uri": "https://localhost:8080/"
        }
      },
      "outputs": [
        {
          "output_type": "stream",
          "name": "stdout",
          "text": [
            "Digite um valor: -45\n",
            "O valor é negativo\n"
          ]
        }
      ],
      "source": [
        "valor = int(input(\"Digite um valor: \"))\n",
        "\n",
        "if valor > 0:\n",
        "    print(\"O valor é positivo\")\n",
        "else:\n",
        "    print(\"O valor é negativo\")"
      ]
    },
    {
      "cell_type": "markdown",
      "id": "6966546b",
      "metadata": {
        "id": "6966546b"
      },
      "source": [
        "#### 3. Faça um Programa que verifique o estado civil de uma pessoa. Se a letra digitada é \"C\" (Casado), \"S\" (Solteiro), \"D\" (Divorciado), \"V\" (Viúvo) ou \"O\" (outros). Conforme a letra escrita pelo usuário seu programa deve escrever o estado civil, exemplo:\n",
        "\n",
        "Usuário digita: C\n",
        "\n",
        "Seu programa deve responder:\n",
        "C - Casado"
      ]
    },
    {
      "cell_type": "code",
      "source": [
        "estado_civil = input(\"Digite seu estado civil:C (Casado), S (Solteiro), D (Divorciado), V (Viúvo) ou O (outros):\")\n",
        "\n",
        "estado_civil = estado_civil.lower()\n",
        "\n",
        "c = \"Casado\"\n",
        "s = \"Solteiro\"\n",
        "d = \"Divorciado\"\n",
        "v = \"viuvo\"\n",
        "o = \"outros\"\n",
        "\n",
        "\n",
        "if estado_civil ==  \"c\":\n",
        "    print(f\"Você escolheu {c}\")\n",
        "elif estado_civil == \"s\":\n",
        "    print(f\"Você escolheu {s}\")\n",
        "elif estado_civil == \"d\":\n",
        "    print(f\"Você escolheu {d}\")\n",
        "elif estado_civil == \"v\":\n",
        "    print(f\"Você escolheu {v}\")\n",
        "elif estado_civil == \"o\":\n",
        "    print(\"Você escolheu {o}\")\n",
        "else:\n",
        "    print(\"resposta invalida\")"
      ],
      "metadata": {
        "id": "fiSiSw6AklaH",
        "outputId": "f1d3f89d-404f-40f1-9c67-f414f3a7a5ef",
        "colab": {
          "base_uri": "https://localhost:8080/"
        }
      },
      "id": "fiSiSw6AklaH",
      "execution_count": null,
      "outputs": [
        {
          "output_type": "stream",
          "name": "stdout",
          "text": [
            "Digite seu estado civil:C (Casado), S (Solteiro), D (Divorciado), V (Viúvo) ou O (outros):D\n",
            "Você escolheu Divorciado\n"
          ]
        }
      ]
    },
    {
      "cell_type": "markdown",
      "id": "c122c0cf",
      "metadata": {
        "id": "c122c0cf"
      },
      "source": [
        "#### 4. Faça um Programa que verifique se o e-mail digitado faz parte dos e-mails de spam."
      ]
    },
    {
      "cell_type": "code",
      "execution_count": null,
      "id": "59bed184",
      "metadata": {
        "id": "59bed184",
        "outputId": "f05132fa-b00b-4c60-deae-c947abf9e3a1",
        "colab": {
          "base_uri": "https://localhost:8080/"
        }
      },
      "outputs": [
        {
          "output_type": "stream",
          "name": "stdout",
          "text": [
            "Digite o email:beltrano@gmail.com\n",
            "É spam!\n"
          ]
        }
      ],
      "source": [
        "emails_spam = \"fulano@gmail.com,beltrano@gmail.com,ciclano@gmail.com\"\n",
        "\n",
        "email = input(\"Digite o email:\")\n",
        "\n",
        "emails_spam = \"fulano@gmail.com,beltrano@gmail.com,ciclano@gmail.com\"\n",
        "\n",
        "if email in emails_spam:\n",
        "    print(\"É spam!\")"
      ]
    },
    {
      "cell_type": "markdown",
      "id": "487ee073",
      "metadata": {
        "id": "487ee073"
      },
      "source": [
        "#### 5. Faça um programa para a leitura de duas notas parciais de um aluno. O programa deve calcular a média alcançada por aluno e apresentar:\n",
        "\n",
        "##### A mensagem \"Aprovado\", se a média alcançada for maior ou igual a sete;\n",
        "##### A mensagem \"Reprovado\", se a média for menor do que sete;\n",
        "##### A mensagem \"Aprovado com Distinção\", se a média for igual a dez."
      ]
    },
    {
      "cell_type": "markdown",
      "id": "6dd3f171",
      "metadata": {
        "id": "6dd3f171"
      },
      "source": [
        "#### 6. Faça um Programa que leia o orçamento de 3 empresas e mostre o maior deles."
      ]
    },
    {
      "cell_type": "code",
      "execution_count": null,
      "id": "51b591e5",
      "metadata": {
        "id": "51b591e5",
        "outputId": "ab846cde-57ef-4fdd-b367-5ccf3059cd6c",
        "colab": {
          "base_uri": "https://localhost:8080/"
        }
      },
      "outputs": [
        {
          "output_type": "stream",
          "name": "stdout",
          "text": [
            "Digite a nota da prova 1:7\n",
            "Digite a nota da prova 2:13\n",
            "Você digitou alguma nota com o valor errado, as notas vão de 0 a 10.\n"
          ]
        }
      ],
      "source": [
        "prova1 = float(input(\"Digite a nota da prova 1:\"))\n",
        "\n",
        "prova2 = float(input(\"Digite a nota da prova 2:\"))\n",
        "\n",
        "media = (prova1+prova2)/2\n",
        "\n",
        "if prova1 > 10 or prova2 > 10:\n",
        "    print(\"Você digitou alguma nota com o valor errado, as notas vão de 0 a 10.\")\n",
        "elif media == 10:\n",
        "    print(\"Aprovado com distinção\")\n",
        "elif media >= 7:\n",
        "    print(f\"Aprovado com média {media}\")\n",
        "else:\n",
        "    print(f\"Reprovado com média {media}\")"
      ]
    },
    {
      "cell_type": "markdown",
      "id": "ce09ed1c",
      "metadata": {
        "id": "ce09ed1c"
      },
      "source": [
        "#### 7. Faça um Programa que leia três orçamentos e mostre o maior e o menor deles."
      ]
    },
    {
      "cell_type": "code",
      "execution_count": null,
      "id": "249f1eb8",
      "metadata": {
        "id": "249f1eb8",
        "outputId": "947a3c72-98cb-4a41-969b-3ef33bfc945c",
        "colab": {
          "base_uri": "https://localhost:8080/"
        }
      },
      "outputs": [
        {
          "output_type": "stream",
          "name": "stdout",
          "text": [
            "O orçamento da Dicico é o maior orçamento com o valor de R$ 500\n",
            "O orçamento da Leroy Merlin é o menor orçamento com o valor de R$ 258\n"
          ]
        }
      ],
      "source": [
        "# inputs comentandos para ganhar mais velocidades nos testes\n",
        "\n",
        "orcamento_dicico = 500 #float(input(\"Digite o orçamento do Dicico:\"))\n",
        "\n",
        "orcamento_telhanorte = 456 #float(input(\"Digite o orçamento do Telhanorte:\"))\n",
        "\n",
        "orcamento_leroy = 258 #float(input(\"Digite o orçamento do Leroy Merlin:\"))\n",
        "\n",
        "if orcamento_dicico > orcamento_telhanorte and orcamento_dicico > orcamento_leroy:\n",
        "    print(f\"O orçamento da Dicico é o maior orçamento com o valor de R$ {orcamento_dicico}\")\n",
        "elif orcamento_telhanorte > orcamento_dicico and orcamento_telhanorte > orcamento_leroy:\n",
        "    print(f\"O orçamento da Telhanorte é o maior orçamento com o valor de R$ {orcamento_telhanorte}\")\n",
        "elif orcamento_leroy > orcamento_dicico and orcamento_leroy > orcamento_telhanorte:\n",
        "    print(f\"O orçamento da Leroy Merlin é o maior orçamento com o valor de R$ {orcamento_leroy}\")\n",
        "\n",
        "if orcamento_dicico < orcamento_telhanorte and orcamento_dicico < orcamento_leroy:\n",
        "    print(f\"O orçamento da Dicico é o menor orçamento com o valor de R$ {orcamento_dicico}\")\n",
        "elif orcamento_telhanorte < orcamento_dicico and orcamento_telhanorte < orcamento_leroy:\n",
        "    print(f\"O orçamento da Telhanorte é o menor orçamento com o valor de R$ {orcamento_telhanorte}\")\n",
        "elif orcamento_leroy < orcamento_dicico and orcamento_leroy < orcamento_telhanorte:\n",
        "    print(f\"O orçamento da Leroy Merlin é o menor orçamento com o valor de R$ {orcamento_leroy}\")\n",
        "\n"
      ]
    },
    {
      "cell_type": "markdown",
      "id": "7453d43a",
      "metadata": {
        "id": "7453d43a"
      },
      "source": [
        "#### 8. Faça um programa que pergunte o preço de três produtos e informe qual produto você deve comprar, sabendo que a decisão é sempre pelo mais barato."
      ]
    },
    {
      "cell_type": "code",
      "execution_count": null,
      "id": "26a9503e",
      "metadata": {
        "id": "26a9503e",
        "outputId": "14a0ad18-54c0-4aa1-b686-22363f9295bd",
        "colab": {
          "base_uri": "https://localhost:8080/"
        }
      },
      "outputs": [
        {
          "output_type": "stream",
          "name": "stdout",
          "text": [
            "Digite o valor do produto A: 789\n",
            "Digite o valor do produto B: 147\n",
            "Digite o valor do produto C: 369\n",
            "O produto B é mais barto e custa R$147\n"
          ]
        }
      ],
      "source": [
        "produtoA = int(input(\"Digite o valor do produto A: \"))\n",
        "produtoB = int(input(\"Digite o valor do produto B: \"))\n",
        "produtoC = int(input(\"Digite o valor do produto C: \"))\n",
        "\n",
        "if produtoA < produtoB and produtoA < produtoC:\n",
        "    print(f\"O produto A é mais barto e custa R${produtoA}\")\n",
        "elif produtoB < produtoA and produtoB < produtoC:\n",
        "    print(f\"O produto B é mais barto e custa R${produtoB}\")\n",
        "elif produtoC < produtoA and produtoC < produtoB:\n",
        "    print(f\"O produto C é mais barto e custa R${produtoC}\")"
      ]
    },
    {
      "cell_type": "markdown",
      "id": "9ade258f",
      "metadata": {
        "id": "9ade258f"
      },
      "source": [
        "#### 9. Faça um Programa que leia três números e mostre-os em ordem decrescente."
      ]
    },
    {
      "cell_type": "code",
      "execution_count": null,
      "id": "f194c39e",
      "metadata": {
        "id": "f194c39e",
        "outputId": "deed8169-80c8-4ac6-f614-b60eb22f36ea",
        "colab": {
          "base_uri": "https://localhost:8080/"
        }
      },
      "outputs": [
        {
          "output_type": "stream",
          "name": "stdout",
          "text": [
            "O maior valor é o C: 45600\n",
            "O segundo maior valor é o B: 7890\n",
            "O terceiro maior valor é o A: 1230\n"
          ]
        }
      ],
      "source": [
        "valor_a = 1230 #int(input(\"Digite o primeiro valor A: \"))\n",
        "valor_b = 7890 #int(input(\"Digite o segundo valor B: \"))\n",
        "valor_c = 45600  #int(input(\"Digite o terceiro valor C: \"))\n",
        "\n",
        "if valor_a > valor_b and valor_a > valor_c:\n",
        "    print(f\"O maior valor é o A: {valor_a}\")\n",
        "    if valor_b > valor_c:\n",
        "        print(f\"O segundo maior valor é o B: {valor_b}\")\n",
        "        print(f\"O terceiro maior valor é o C: {valor_c}\")\n",
        "    else:\n",
        "        print(f\"O segundo maior valor é o C: {valor_c}\")\n",
        "        print(f\"O terceiro maior valor é o B: {valor_b}\")\n",
        "\n",
        "if valor_b > valor_a and valor_b > valor_c:\n",
        "    print(f\"O maior é o B: {valor_b}\")\n",
        "    if valor_a > valor_c:\n",
        "        print(f\"O segundo maior valor é o A: {valor_a}\")\n",
        "        print(f\"O terceiro maior valor é o C: {valor_c}\")\n",
        "    else:\n",
        "        print(f\"O segundo maior valor é o C: {valor_c}\")\n",
        "        print(f\"O terceiro maior valor é o A: {valor_a}\")\n",
        "\n",
        "if valor_c > valor_b and valor_c > valor_a:\n",
        "    print(f\"O maior valor é o C: {valor_c}\")\n",
        "    if valor_b > valor_a:\n",
        "        print(f\"O segundo maior valor é o B: {valor_b}\")\n",
        "        print(f\"O terceiro maior valor é o A: {valor_a}\")\n",
        "    else:\n",
        "        print(f\"O segundo maior valor é o A: {valor_a}\")\n",
        "        print(f\"O terceiro maior valor é o B: {valor_b}\")"
      ]
    },
    {
      "cell_type": "code",
      "source": [
        "# outra forma de resolver\n",
        "\n",
        "produtos = [\"produto_a\", \"produto_b\", \"produto_c\"]\n",
        "\n",
        "dicionario_produtos = {}\n",
        "\n",
        "for produto in produtos:\n",
        "    valor = int(input(f\"Digite o valor do {produto}: \"))\n",
        "    dicionario_produtos[produto] = valor\n",
        "\n",
        "dicionario_ordenado = sorted(dicionario_produtos.items(), key=lambda item: item[1], reverse=True)\n",
        "\n",
        "for i, (produto, valor) in enumerate(dicionario_ordenado, start=1):\n",
        "    print(f\"O {i}º maior valor é o {produto}: {valor}\")\n"
      ],
      "metadata": {
        "id": "B386vr4drjbY",
        "outputId": "77422a28-1514-486c-8523-f49f0f5e1b71",
        "colab": {
          "base_uri": "https://localhost:8080/"
        }
      },
      "id": "B386vr4drjbY",
      "execution_count": null,
      "outputs": [
        {
          "output_type": "stream",
          "name": "stdout",
          "text": [
            "Digite o valor do produto_a: 456\n",
            "Digite o valor do produto_b: 123\n",
            "Digite o valor do produto_c: 789\n",
            "O 1º maior valor é o produto_c: 789\n",
            "O 2º maior valor é o produto_a: 456\n",
            "O 3º maior valor é o produto_b: 123\n"
          ]
        }
      ]
    },
    {
      "cell_type": "markdown",
      "id": "d06e2fe8",
      "metadata": {
        "id": "d06e2fe8"
      },
      "source": [
        "#### 10. Faça um Programa que pergunte em que turno você estuda. Peça para digitar M-matutino ou V-Vespertino ou N- Noturno. Imprima a mensagem \"Bom Dia!\", \"Boa Tarde!\" ou \"Boa Noite!\" ou \"Valor Inválido!\", conforme o caso."
      ]
    },
    {
      "cell_type": "code",
      "execution_count": null,
      "id": "1eb36141",
      "metadata": {
        "id": "1eb36141",
        "outputId": "5d19223b-c6b3-46c7-e151-474ccd8ffde8",
        "colab": {
          "base_uri": "https://localhost:8080/"
        }
      },
      "outputs": [
        {
          "output_type": "stream",
          "name": "stdout",
          "text": [
            "Qual seu periodo? M-matutino ou V-Vespertino ou N- Noturno? m\n",
            "Bom dia!\n"
          ]
        }
      ],
      "source": [
        "periodo = input(\"Qual seu periodo? M-matutino ou V-Vespertino ou N- Noturno? \")\n",
        "\n",
        "periodo = periodo.lower()\n",
        "\n",
        "m = \"Bom dia!\"\n",
        "v = \"Boa tarde!\"\n",
        "n = \"Boa noite!\"\n",
        "\n",
        "if periodo == \"m\":\n",
        "    print(m)\n",
        "elif periodo == \"v\":\n",
        "    print(v)\n",
        "elif periodo == \"n\":\n",
        "    print(n)\n",
        "\n",
        "else:\n",
        "    print(\"Você digitou errado, verifique as opções: M-matutino ou V-Vespertino ou N- Noturno\")"
      ]
    },
    {
      "cell_type": "markdown",
      "id": "4864b755",
      "metadata": {
        "id": "4864b755"
      },
      "source": [
        "#### 11. As Organizações Tabajara resolveram dar um aumento de salário aos seus colaboradores e lhe contraram para desenvolver o programa que calculará os reajustes. Faça um programa que recebe o salário de um colaborador e o reajuste segundo o seguinte critério, baseado no salário atual:\n",
        "\n",
        "##### salários até R\\\\$ 280,00 (incluindo) : aumento de 20%\n",
        "\n",
        "##### salários entre R\\\\$ 280,00 e R\\\\$ 700,00 : aumento de 15%\n",
        "\n",
        "##### salários entre R\\\\$ 700,00 e R\\\\$ 1500,00 : aumento de 10%\n",
        "\n",
        "##### salários de R\\\\$ 1500,00 em diante : aumento de 5% Após o aumento ser realizado, informe na tela:\n",
        "\n",
        "###### o salário antes do reajuste;\n",
        "\n",
        "###### o percentual de aumento aplicado;\n",
        "\n",
        "###### o valor do aumento;\n",
        "\n",
        "###### o novo salário, após o aumento.\n",
        "\n",
        "###### Obs: Não vamos nos preocupar tanto com a formatação dos números (nº de casas decimais, por exemplo, veremos isso no próximo módulo)"
      ]
    },
    {
      "cell_type": "code",
      "execution_count": null,
      "id": "f0d34916",
      "metadata": {
        "id": "f0d34916",
        "outputId": "e49e4c01-1a91-458a-bdbe-29dee4605e4c",
        "colab": {
          "base_uri": "https://localhost:8080/"
        }
      },
      "outputs": [
        {
          "output_type": "stream",
          "name": "stdout",
          "text": [
            "Digite o valor do salario atual R$:1000\n",
            "O salário atual é R$1000.00, receberá 10% de aumento, em reais corresponde a R$100.00, assim no novo salário é R$1100.00.\n"
          ]
        }
      ],
      "source": [
        "salario_atual = float(input(\"Digite o valor do salario atual R$:\"))\n",
        "\n",
        "if salario_atual > 1500:\n",
        "    percentual = 0.05\n",
        "    salario_reajustado = salario_atual*(1+percentual)\n",
        "    aumento = salario_reajustado-salario_atual\n",
        "\n",
        "elif salario_atual <= 1500 and salario_atual > 700:\n",
        "    percentual = 0.10\n",
        "    salario_reajustado = salario_atual*(1+percentual)\n",
        "    aumento = salario_reajustado-salario_atual\n",
        "\n",
        "elif salario_atual <= 700 and salario_atual > 280:\n",
        "    percentual = 0.15\n",
        "    salario_reajustado = salario_atual*(1+percentual)\n",
        "    aumento = salario_reajustado-salario_atual\n",
        "\n",
        "elif salario_atual <= 280:\n",
        "    percentual = 0.20\n",
        "    salario_reajustado = salario_atual*(1+percentual)\n",
        "    aumento = salario_reajustado-salario_atual\n",
        "\n",
        "\n",
        "print(f\"O salário atual é R${salario_atual:.2f}, receberá {percentual:.0%} de aumento, em reais corresponde a R${aumento:.2f}, assim no novo salário é R${salario_reajustado:.2f}.\")\n",
        "\n"
      ]
    },
    {
      "cell_type": "markdown",
      "id": "b037f1e8",
      "metadata": {
        "id": "b037f1e8"
      },
      "source": [
        "#### 12 . Faça um programa para o cálculo de uma folha de pagamento, sabendo que os descontos são do Imposto de Renda, que depende do salário bruto (conforme tabela abaixo) e que o FGTS corresponde a 11% do Salário Bruto, mas não é descontado (é a empresa que deposita). O Salário Líquido corresponde ao Salário Bruto menos os descontos. O programa deverá pedir ao usuário o valor da sua hora e a quantidade de horas trabalhadas no mês.\n",
        "\n",
        "Desconto do IR:<br>\n",
        "Salário Bruto até 900 (inclusive) - isento<br>\n",
        "Salário Bruto até 1500 (inclusive) - desconto de 5%<br>\n",
        "Salário Bruto até 2500 (inclusive) - desconto de 10%<br>\n",
        "Salário Bruto acima de 2500 - desconto de 20%<br>\n",
        "Imprima na tela as informações, dispostas conforme o exemplo abaixo. No exemplo o valor da hora é 5 e a quantidade de hora é 220.\n",
        "\n",
        "Salário Bruto: (5 * 220)        : R\\\\$ 1100,00<br>\n",
        "(-) IR (5%)                     : R\\\\$   55,00<br>\n",
        "(-) INSS ( 10%)                 : R\\\\$  110,00<br>\n",
        "FGTS (11%)                      : R\\\\$  121,00<br>\n",
        "Total de descontos              : R\\\\$  165,00<br>\n",
        "Salário Liquido                 : R\\\\$  935,00<br>\n",
        "\n",
        "###### Obs: Não vamos nos preocupar tanto com a formatação dos números (nº de casas decimais, por exemplo, veremos isso no próximo módulo)"
      ]
    },
    {
      "cell_type": "code",
      "execution_count": null,
      "id": "dad18bb2",
      "metadata": {
        "id": "dad18bb2",
        "outputId": "f13ed731-084c-4cb0-bcd3-05274c9aa2a9",
        "colab": {
          "base_uri": "https://localhost:8080/"
        }
      },
      "outputs": [
        {
          "output_type": "stream",
          "name": "stdout",
          "text": [
            "Digite quantas horas você trabalha por mês: 220\n",
            "Digite o valor que você recebe por hora trabalhada: 22\n",
            "Salario Bruto em R$4840.00\n",
            "INSS 10% em R$484.00\n",
            "IR 20% em R$968.00\n",
            "FGTS(11%) em R$532.40\n",
            "Total de descontos em R$1452.00\n",
            "Salario liquido em R$3388.00\n"
          ]
        }
      ],
      "source": [
        "qtde_horas = float(input(\"Digite quantas horas você trabalha por mês: \"))\n",
        "valor_hora = float(input(\"Digite o valor que você recebe por hora trabalhada: \"))\n",
        "\n",
        "salario_bruto = qtde_horas*valor_hora\n",
        "\n",
        "desc_fgts = salario_bruto*0.11\n",
        "\n",
        "desc_inss = salario_bruto*0.10\n",
        "\n",
        "desc_impostorenda = 0\n",
        "\n",
        "if salario_bruto <= 900:\n",
        "    faixa_desconto = 0\n",
        "    desc_impostorenda = salario_bruto*0\n",
        "\n",
        "elif salario_bruto  <= 1500:\n",
        "    faixa_desconto = 0.05\n",
        "    desc_impostorenda = salario_bruto*faixa_desconto\n",
        "\n",
        "elif salario_bruto  <= 2500:\n",
        "    faixa_desconto = 0.1\n",
        "    desc_impostorenda = salario_bruto*faixa_desconto\n",
        "\n",
        "elif salario_bruto  > 2500:\n",
        "    faixa_desconto = 0.20\n",
        "    desc_impostorenda = salario_bruto*faixa_desconto\n",
        "\n",
        "\n",
        "print(f\"Salario Bruto em R${salario_bruto:.2f}\")\n",
        "print(f\"INSS 10% em R${desc_inss:.2f}\")\n",
        "print(f\"IR {faixa_desconto:.0%} em R${desc_impostorenda:.2f}\")\n",
        "print(f\"FGTS(11%) em R${desc_fgts:.2f}\")\n",
        "print(f\"Total de descontos em R${desc_impostorenda+desc_inss:.2f}\")\n",
        "print(f\"Salario liquido em R${salario_bruto-desc_inss-desc_impostorenda:.2f}\")"
      ]
    },
    {
      "cell_type": "markdown",
      "id": "814fc211",
      "metadata": {
        "id": "814fc211"
      },
      "source": [
        "#### 13. Faça um Programa que leia um número e exiba o dia correspondente da semana. (1-Domingo, 2- Segunda, etc.), se digitar outro valor deve aparecer valor inválido."
      ]
    },
    {
      "cell_type": "code",
      "source": [
        "dia_da_semana = int(input(\"Digite um numero de 1 a 7: \"))\n",
        "\n",
        "if dia_da_semana == 1:\n",
        "    print(\"domingo\")\n",
        "elif dia_da_semana == 2:\n",
        "    print(\"Segunda-feira\")\n",
        "elif dia_da_semana == 3:\n",
        "    print(\"terca-feira\")\n",
        "elif dia_da_semana == 4:\n",
        "    print(\"quarta-feira\")\n",
        "elif dia_da_semana == 5:\n",
        "    print(\"quinta-feira\")\n",
        "elif dia_da_semana == 6:\n",
        "    print(\"sexta-feira\")\n",
        "else:\n",
        "    print(\"Valor inválido!\")\n",
        "\n"
      ],
      "metadata": {
        "id": "-oFrr_xQUPxd",
        "outputId": "d3517107-6892-460c-b732-f6756aaa014f",
        "colab": {
          "base_uri": "https://localhost:8080/"
        }
      },
      "id": "-oFrr_xQUPxd",
      "execution_count": 27,
      "outputs": [
        {
          "output_type": "stream",
          "name": "stdout",
          "text": [
            "Digite um numero de 1 a 7: 4\n",
            "quarta-feira\n"
          ]
        }
      ]
    },
    {
      "cell_type": "markdown",
      "id": "6e5f461e",
      "metadata": {
        "id": "6e5f461e"
      },
      "source": [
        "#### 14. Faça um programa que lê as duas notas parciais obtidas por um aluno numa disciplina ao longo de um semestre, e calcule a sua média. Em seguida, mostre qual conceito o aluno teve. A atribuição de conceitos obedece à tabela abaixo:\n",
        "<pre>\n",
        "Média de Aproveitamento  Conceito\n",
        "Entre 9.0 e 10.0        A\n",
        "Entre 7.5 e 9.0         B\n",
        "Entre 6.0 e 7.5         C\n",
        "Entre 4.0 e 6.0         D\n",
        "Entre 4.0 e zero        E\n",
        "</pre>"
      ]
    },
    {
      "cell_type": "code",
      "execution_count": 28,
      "id": "29721a43",
      "metadata": {
        "id": "29721a43",
        "outputId": "5f3c70c5-257f-4272-ef0f-531db327742b",
        "colab": {
          "base_uri": "https://localhost:8080/"
        }
      },
      "outputs": [
        {
          "output_type": "stream",
          "name": "stdout",
          "text": [
            "Conceito B\n"
          ]
        }
      ],
      "source": [
        "prova_1_semestre = 10\n",
        "prova_2_semestre = 5\n",
        "\n",
        "media_de_aproveitamento = (prova_1_semestre+prova_2_semestre)/2\n",
        "\n",
        "if media_de_aproveitamento >= 9 and media_de_aproveitamento <= 10:\n",
        "    print(\"Conceito A\")\n",
        "elif media_de_aproveitamento >=7.5 and media_de_aproveitamento <9:\n",
        "    print(\"Conceito B\")\n",
        "elif media_de_aproveitamento >= 6 and media_de_aproveitamento<7.5:\n",
        "    print(\"Conceito C\")\n",
        "elif media_de_aproveitamento >= 4 and media_de_aproveitamento <6:\n",
        "    print(\"Conceito D\")\n",
        "elif media_de_aproveitamento <4:\n",
        "    print(\"Conceito E\")\n",
        "else:\n",
        "    print(\"Você digitou alguma nota errada\")"
      ]
    },
    {
      "cell_type": "markdown",
      "id": "e6b3bcaf",
      "metadata": {
        "id": "e6b3bcaf"
      },
      "source": [
        "#### 15. Você está construindo um calendário para controlar dias de trabalho a pedido do RH. Nessa construção, você vai precisar definir quais anos são bissextos e quais não são, para montar o calendário de forma correta. Faça um Programa que peça um número correspondente a um determinado ano e em seguida informe se este ano é ou não bissexto.\n",
        "<pre>\n",
        "Dica para determinar se um ano é bissexto:\n",
        "- São bissextos todos os anos múltiplos de 400, p.ex.: 1600, 2000, 2400, 2800...\n",
        "- São bissextos todos os múltiplos de 4, exceto se for múltiplo de 100 mas não de 400,\n",
        "p.ex.: 1996, 2000, 2004, 2008, 2012, 2016, 2020, 2024, 2028...\n",
        "- Não são bissextos todos os demais anos.<br>\n",
        "ex1: 2004 é múltiplo de 4, mas não é múltiplo de 100, então é bissexto.\n",
        "ex2: 2000 é múltiplo de 4, mas é múltiplo de 100, só que também é multiplo de 400, então é bissexto (porque todo ano múltiplo de 400 é bissexto, independente do resto).\n",
        "ex3: 1900 é múltiplo de 4, é múltiplo de 100, mas não é múltiplo de 400, então não é bissexto\n",
        "\n",
        "</pre>\n",
        "\n",
        "Dica: lembre que: numero % 4 é o resto da divisão do número por 4, ex: 10 % 3 = 1 (já que 10/3 = 3 e resta 1)"
      ]
    },
    {
      "cell_type": "code",
      "execution_count": 29,
      "id": "56af223f",
      "metadata": {
        "id": "56af223f",
        "outputId": "c525b86f-028e-4d6b-d0ca-8ccf613a6978",
        "colab": {
          "base_uri": "https://localhost:8080/"
        }
      },
      "outputs": [
        {
          "output_type": "stream",
          "name": "stdout",
          "text": [
            "Não é ano bissesto!\n"
          ]
        }
      ],
      "source": [
        "ano = 2007\n",
        "\n",
        "if (ano %4 == 0 and ano %100 != 0) or ano %400 == 0:\n",
        "    print(\"Ano bissesto\")\n",
        "else:\n",
        "    print(\"Não é ano bissesto!\")"
      ]
    },
    {
      "cell_type": "markdown",
      "id": "9fe532c8",
      "metadata": {
        "id": "9fe532c8"
      },
      "source": [
        "#### 16. Faça um Programa para leitura de três notas parciais de um aluno. O programa deve calcular a média alcançada por aluno e presentar:\n",
        "<pre>\n",
        "A mensagem \"Aprovado\", se a média for maior ou igual a 7, com a respectiva média alcançada;\n",
        "A mensagem \"Reprovado\", se a média for menor do que 7, com a respectiva média alcançada;\n",
        "A mensagem \"Aprovado com Distinção\", se a média for igual a 10.\n",
        "</pre>"
      ]
    },
    {
      "cell_type": "code",
      "execution_count": 30,
      "id": "1a56e99f",
      "metadata": {
        "id": "1a56e99f",
        "outputId": "22650d13-e48a-4bc6-9a09-c7b6170206e2",
        "colab": {
          "base_uri": "https://localhost:8080/"
        }
      },
      "outputs": [
        {
          "output_type": "stream",
          "name": "stdout",
          "text": [
            "Digite a nota da prova 1:4\n",
            "Digite a nota da prova 2:7\n",
            "Reprovado com média 5.5\n"
          ]
        }
      ],
      "source": [
        "prova1 = float(input(\"Digite a nota da prova 1:\"))\n",
        "\n",
        "prova2 = float(input(\"Digite a nota da prova 2:\"))\n",
        "\n",
        "media = (prova1+prova2)/2\n",
        "\n",
        "if media >=10:\n",
        "    print(\"Aprovado com distinção\")\n",
        "elif media >= 7:\n",
        "    print(f\"Aprovado com média {media}\")\n",
        "else:\n",
        "    print(f\"Reprovado com média {media}\")"
      ]
    },
    {
      "cell_type": "markdown",
      "id": "d544412e",
      "metadata": {
        "id": "d544412e"
      },
      "source": [
        "#### 17. João Papo-de-Pescador, homem de bem, comprou um microcomputador para controlar o rendimento diário de seu trabalho. Toda vez que ele traz um peso de peixes maior que o estabelecido pelo regulamento de pesca do estado de São Paulo (50 quilos) deve pagar uma multa de R$ 4,00 por quilo excedente. João precisa que você faça um programa que leia a variável peso (peso de peixes) e calcule o excesso. Gravar na variável excesso a quantidade de quilos além do limite e na variável multa o valor da multa que João deverá pagar. Imprima os dados do programa com as mensagens adequadas."
      ]
    },
    {
      "cell_type": "code",
      "execution_count": 34,
      "id": "971ed027",
      "metadata": {
        "id": "971ed027",
        "outputId": "ffde5ea8-5a99-4ffc-8766-306596d153cf",
        "colab": {
          "base_uri": "https://localhost:8080/"
        }
      },
      "outputs": [
        {
          "output_type": "stream",
          "name": "stdout",
          "text": [
            "Qual o peso do peixe?79\n",
            "O valor de multa a ser pago pelo excedente de peso é R$116.00, pois ultrapassou 29.0Kg\n"
          ]
        }
      ],
      "source": [
        "pesapeixe = float(input(\"Qual o peso do peixe?\"))\n",
        "\n",
        "\n",
        "if pesapeixe > 50:\n",
        "    multa = (pesapeixe-50)*4\n",
        "    excedente = pesapeixe-50\n",
        "    print(f\"O valor de multa a ser pago pelo excedente de peso é R${multa:.2f}, pois ultrapassou {excedente}Kg\")\n",
        "else:\n",
        "    print(\"Você não execedeu o limite\")"
      ]
    },
    {
      "cell_type": "markdown",
      "id": "0e5256e0",
      "metadata": {
        "id": "0e5256e0"
      },
      "source": [
        "#### 18. Faça um Programa para um caixa eletrônico. O programa deverá perguntar ao usuário a valor do saque e depois informar quantas notas de cada valor serão fornecidas. As notas disponíveis serão as de 1, 5, 10, 50 e 100 reais. O valor mínimo é de 10 reais e o máximo de 600 reais. O programa não deve se preocupar com a quantidade de notas existentes na máquina.\n",
        "<pre>\n",
        "Exemplo 1: Para sacar a quantia de 256 reais, o programa fornece duas notas de 100, uma nota de 50, uma nota de 5 e uma nota de 1;\n",
        "Exemplo 2: Para sacar a quantia de 399 reais, o programa fornece três notas de 100, uma nota de 50, quatro notas de 10, uma nota de 5 e quatro notas de 1.\n",
        "</pre>\n",
        "\n",
        "Dica1: numero // 10 vai te dar como resposta a parte inteira da divisão do número por 10.<br>\n",
        "Dica2: numero % 10 vai te dar o resto da divisão do número por 10."
      ]
    },
    {
      "cell_type": "code",
      "execution_count": 35,
      "id": "9b4244c7",
      "metadata": {
        "id": "9b4244c7",
        "outputId": "9829df46-7955-4352-faf1-caf6724288af",
        "colab": {
          "base_uri": "https://localhost:8080/"
        }
      },
      "outputs": [
        {
          "output_type": "stream",
          "name": "stdout",
          "text": [
            "São necessárias \n",
            "4 notas de 100,\n",
            "e 1 notas de 50,\n",
            "e 1 notas de 20,\n",
            "e 1 notas de 10,\n",
            "e 6 notas de 1 real\n"
          ]
        }
      ],
      "source": [
        "valor_saque = 486 # int(input(\"Digite o valor a ser sacado:\"))\n",
        "\n",
        "n100 = 0\n",
        "n50 = 0\n",
        "n10 = 0\n",
        "n5 = 0\n",
        "n1 = 0\n",
        "\n",
        "if 10 <= valor_saque <=600:\n",
        "    print(\"São necessárias \")\n",
        "\n",
        "    if valor_saque >= 100:\n",
        "        n100 = valor_saque //100\n",
        "        valor_saque = valor_saque % 100\n",
        "        print(f\"{n100} notas de 100,\")\n",
        "\n",
        "    if valor_saque % 100 >= 50:\n",
        "        n50 = valor_saque // 50\n",
        "        valor_saque = valor_saque % 50\n",
        "        print(f\"e {n50} notas de 50,\")\n",
        "\n",
        "    if valor_saque % 50 >= 20:\n",
        "        n20 = valor_saque//20\n",
        "        valor_saque = valor_saque % 20\n",
        "        print(f\"e {n20} notas de 20,\")\n",
        "\n",
        "    if valor_saque % 20 >= 10: #adicionado nota de 20 não solicitatado\n",
        "        n10 = valor_saque //10\n",
        "        valor_saque = valor_saque % 10\n",
        "        print (f\"e {n10} notas de 10,\")\n",
        "\n",
        "    if valor_saque % 10 >= 1:\n",
        "        n1 = valor_saque // 1\n",
        "        valor_saque = valor_saque %1\n",
        "        print(f\"e {n1} notas de 1 real\")\n"
      ]
    },
    {
      "cell_type": "markdown",
      "id": "cba47494",
      "metadata": {
        "id": "cba47494"
      },
      "source": [
        "#### 19. Faça um programa que faça 5 perguntas para uma pessoa sobre um crime. As perguntas são:\n",
        "<pre>\n",
        "\"Telefonou para a vítima?\"\n",
        "\"Esteve no local do crime?\"\n",
        "\"Mora perto da vítima?\"\n",
        "\"Devia para a vítima?\"\n",
        "\"Já trabalhou com a vítima?\"\n",
        "O programa deve no final emitir uma classificação sobre a participação da pessoa no crime. Se a pessoa responder positivamente a 2 questões ela deve ser classificada como \"Suspeita\", entre 3 e 4 como \"Cúmplice\" e 5 como \"Assassino\". Caso contrário, ele será classificado como \"Inocente\".\n",
        "</pre>"
      ]
    },
    {
      "cell_type": "code",
      "execution_count": 38,
      "id": "5fdf9b88",
      "metadata": {
        "id": "5fdf9b88",
        "outputId": "1bc7e107-5499-4abb-80fe-d10dd8992af3",
        "colab": {
          "base_uri": "https://localhost:8080/"
        }
      },
      "outputs": [
        {
          "output_type": "stream",
          "name": "stdout",
          "text": [
            "mario é Suspeito\n",
            "2\n"
          ]
        }
      ],
      "source": [
        "p0 =  \"Mario\" # input(\"Seu nome:\")\n",
        "p1 =  \"Sim\" # input(\"Telefonou para a vítima? Sim ou Não?\")\n",
        "p2 = \"Não\"  # input(\"Esteve no local do crime? Sim ou Não?\")\n",
        "p3 =  \"Sim\" # input(\"Mora perto da vítima? Sim ou Não?\")\n",
        "p4 =  \"Não\" # input(\"Devia para a vítima? Sim ou Não?\")\n",
        "p5 =  \"Não\" # input(\"Já trabalhou com a vítima? Sim ou Não?\")\n",
        "\n",
        "p0 = p0.lower()\n",
        "p1 = p1.lower()\n",
        "p2 = p2.lower()\n",
        "p3 = p3.lower()\n",
        "p4 = p4.lower()\n",
        "p5 = p5.lower()\n",
        "\n",
        "pontuacao = 0\n",
        "\n",
        "if p1 == \"sim\":\n",
        "    pontuacao += 1\n",
        "if p2 == \"sim\":\n",
        "    pontuacao += 1\n",
        "if p3 == \"sim\":\n",
        "    pontuacao += 1\n",
        "if p4 == \"sim\":\n",
        "    pontuacao += 1\n",
        "if p5 == \"sim\":\n",
        "    pontuacao += 1\n",
        "\n",
        "if pontuacao >= 5:\n",
        "    print(f\"{p0} é o assassino!\")\n",
        "elif pontuacao <=4 and pontuacao >= 3:\n",
        "    print(f\"{p0} é o cumplice!\")\n",
        "elif pontuacao >= 2:\n",
        "    print(f\"{p0} é Suspeito\")\n",
        "else:\n",
        "    print(f\"{p0} é Inocente!\")\n",
        "\n",
        "\n",
        "print(pontuacao)"
      ]
    },
    {
      "cell_type": "markdown",
      "id": "18901e98",
      "metadata": {
        "id": "18901e98"
      },
      "source": [
        "#### 20. Um posto está vendendo combustíveis com a seguinte tabela de descontos:\n",
        "<pre>\n",
        "Etanol:\n",
        "até 20 litros, desconto de 3% por litro\n",
        "acima de 20 litros, desconto de 5% por litro\n",
        "Gasolina:\n",
        "até 20 litros, desconto de 4% por litro\n",
        "acima de 20 litros, desconto de 6% por litro\n",
        "\n",
        "Escreva um algoritmo que leia o número de litros vendidos, o tipo de combustível\n",
        "(codificado da seguinte forma: E-Etanol, G-gasolina),\n",
        "calcule e imprima o valor a ser pago pelo cliente sabendo-se que\n",
        "o preço do litro da gasolina é R$ 6,50 o preço do litro do etanol é R$ 4,90.\n",
        "</pre>"
      ]
    },
    {
      "cell_type": "code",
      "execution_count": 42,
      "id": "a1fd8c38",
      "metadata": {
        "id": "a1fd8c38",
        "outputId": "b18914c9-8c9c-4226-977d-56c4edbf1a9b",
        "colab": {
          "base_uri": "https://localhost:8080/"
        }
      },
      "outputs": [
        {
          "output_type": "stream",
          "name": "stdout",
          "text": [
            "Qual combustível você quer abastecer? E-etanol ou G-gasolina?g\n",
            "Quantos litros de combustível você quer abastecer?54\n",
            "O valor a ser pago é R$329.94\n"
          ]
        }
      ],
      "source": [
        "combustivel = input(\"Qual combustível você quer abastecer? E-etanol ou G-gasolina?\")\n",
        "abastecimento = int(input(\"Quantos litros de combustível você quer abastecer?\"))\n",
        "\n",
        "combustivel = combustivel.lower()\n",
        "\n",
        "if combustivel == \"e\":\n",
        "    if abastecimento <= 20:\n",
        "        desconto = 0.03\n",
        "        valor_litro = 4.90\n",
        "        valor_total = valor_litro*abastecimento*(1-desconto)\n",
        "        print(f\"O valor a ser pago é R${valor_total:.2f}\")\n",
        "    else:\n",
        "        desconto = 0.05\n",
        "        valor_litro = 4.90\n",
        "        valor_total = valor_litro*abastecimento*(1-desconto)\n",
        "        print(f\"O valor a ser pago é R${valor_total:.2f}\")\n",
        "elif combustivel == \"g\":\n",
        "    if abastecimento <= 20:\n",
        "        desconto = 0.04\n",
        "        valor_litro = 6.5\n",
        "        valor_total = valor_litro*abastecimento*(1-desconto)\n",
        "        print(f\"O valor a ser pago é R${valor_total:.2f}\")\n",
        "    else:\n",
        "        desconto = 0.06\n",
        "        valor_litro = 6.5\n",
        "        valor_total = valor_litro*abastecimento*(1-desconto)\n",
        "        print(f\"O valor a ser pago é R${valor_total:.2f}\")\n",
        "\n"
      ]
    },
    {
      "cell_type": "markdown",
      "id": "be0f8f32",
      "metadata": {
        "id": "be0f8f32"
      },
      "source": [
        "#### 21. Uma fruteira está vendendo frutas com a seguinte tabela de preços:\n",
        "<pre>\n",
        "                      Até 5 Kg           Acima de 5 Kg\n",
        "Morango         R$ 2,50 por Kg          R$ 2,20 por Kg\n",
        "Maçã            R$ 1,80 por Kg          R$ 1,50 por Kg\n",
        "Se o cliente comprar mais de 8 Kg em frutas ou o valor total da compra\n",
        "ultrapassar R$ 25,00, receberá ainda um desconto de 10% sobre este total.\n",
        "\n",
        "Escreva um algoritmo para ler a quantidade (em Kg) de morangos\n",
        "e a quantidade (em Kg) de maças adquiridas\n",
        "e escreva o valor a ser pago pelo cliente.\n",
        "</pre>"
      ]
    },
    {
      "cell_type": "code",
      "execution_count": 50,
      "id": "35c47c8e",
      "metadata": {
        "id": "35c47c8e",
        "outputId": "dbcf2f81-7cba-4d38-bfbd-5accd9d93fdc",
        "colab": {
          "base_uri": "https://localhost:8080/"
        }
      },
      "outputs": [
        {
          "output_type": "stream",
          "name": "stdout",
          "text": [
            "Quantos Kg de morangos você quer comprar?8\n",
            "Quantos Kg de maçãs você quer comprar?8\n",
            "O valor a ser pago é R$26.64,você teve R$2.66 de desconto\n"
          ]
        }
      ],
      "source": [
        "compra_morangos = int(input(\"Quantos Kg de morangos você quer comprar?\"))\n",
        "compra_macas = int(input(\"Quantos Kg de maçãs você quer comprar?\"))\n",
        "\n",
        "if compra_morangos <= 5:\n",
        "    valor_morangos = compra_morangos*2.50\n",
        "else:\n",
        "    valor_morangos = compra_morangos*2.20\n",
        "\n",
        "if compra_macas <= 5:\n",
        "    valor_macas = compra_macas*1.80\n",
        "else:\n",
        "    valor_macas = compra_macas*1.50\n",
        "\n",
        "valor_total = valor_morangos + valor_macas\n",
        "\n",
        "if valor_total > 25 or compra_morangos + compra_macas > 8:\n",
        "    valor_total = valor_total*0.9\n",
        "    print(f\"O valor a ser pago é R${valor_total:.2f},você teve R${(valor_total*0.1):.2f} de desconto\")\n",
        "\n",
        "else:\n",
        "    print(f\"O valor a ser pago é R${valor_total:.2f}\")\n"
      ]
    },
    {
      "cell_type": "markdown",
      "id": "4dbd53ed",
      "metadata": {
        "id": "4dbd53ed"
      },
      "source": [
        "#### 22. O Hipermercado Tabajara está com uma promoção de carnes que é imperdível. Confira:\n",
        "<pre>\n",
        "                      Até 5 Kg           Acima de 5 Kg\n",
        "File Duplo      R$ 4,90 por Kg          R$ 5,80 por Kg\n",
        "Alcatra         R$ 5,90 por Kg          R$ 6,80 por Kg\n",
        "Picanha         R$ 6,90 por Kg          R$ 7,80 por Kg\n",
        "Para atender a todos os clientes, cada cliente poderá levar apenas um dos tipos de carne da promoção,\n",
        "porém não há limites para a quantidade de carne por cliente.\n",
        "Se compra for feita no cartão Tabajara o cliente receberá ainda um desconto de 5% sobre o total da compra.\n",
        "Escreva um programa que peça o tipo e a quantidade de carne comprada pelo usuário e gere um cupom fiscal,\n",
        "contendo as informações da compra:\n",
        "tipo e quantidade de carne, preço total, tipo de pagamento, valor do desconto e valor a pagar.\n",
        "</pre>"
      ]
    },
    {
      "cell_type": "code",
      "execution_count": 76,
      "id": "15a77357",
      "metadata": {
        "id": "15a77357",
        "outputId": "001c25b1-a387-4c42-f1d3-47b88ec6cc88",
        "colab": {
          "base_uri": "https://localhost:8080/"
        }
      },
      "outputs": [
        {
          "output_type": "stream",
          "name": "stdout",
          "text": [
            "Qual carne você vai escolhar: File Duplo, Alcatra ou Picanha?FILE DUPLO\n",
            "Quantos kg você vai querer?10\n",
            "Qual a forma de pagamento? TabajaraCard ou Dinheiro?TABAJARACARD\n",
            "\n",
            "-------------------------------------\n",
            "           Hipermercado Tabajara\n",
            "-------------------------------------\n",
            "              CUPOM FISCAL\n",
            "-------------------------------------\n",
            "QTDE  10 Kg \n",
            "-------------------------------------\n",
            "PRODUTO: FILE DUPLO \n",
            "-------------------------------------\n",
            "VALOR TOTAL R$ 58.00    \n",
            "-------------------------------------\n",
            "TIPO DE PAGAMENTO: TABAJARACARD\n",
            "-------------------------------------\n",
            "VALOR DO DESCONTO R$2.90\n",
            "-------------------------------------\n",
            "VALOR A PAGAR: R$55.10\n",
            "\n"
          ]
        }
      ],
      "source": [
        "tipo_carne = input(\"Qual carne você vai escolhar: File Duplo, Alcatra ou Picanha?\")\n",
        "qtos_kg = int(input(\"Quantos kg você vai querer?\"))\n",
        "forma_pagamento = input(\"Qual a forma de pagamento? TabajaraCard ou Dinheiro?\")\n",
        "\n",
        "tipo_carne = tipo_carne.lower()\n",
        "forma_pagamento = forma_pagamento.lower()\n",
        "\n",
        "if tipo_carne == \"file duplo\":\n",
        "  if qtos_kg <= 5:\n",
        "    valor_total = 4.90*qtos_kg\n",
        "  else:\n",
        "    valor_total = 5.80*qtos_kg\n",
        "\n",
        "elif tipo_carne == \"alcatra\":\n",
        "  if qtos_kg <= 5:\n",
        "    valor_total = 5.90*qtos_kg\n",
        "  else:\n",
        "    valor_total = 6.80*qtos_kg\n",
        "\n",
        "elif tipo_carne == \"picanha\":\n",
        "  if qtos_kg <= 5:\n",
        "    valor_total = 6.90*qtos_kg\n",
        "  else:\n",
        "    valor_total = 7.80*qtos_kg\n",
        "\n",
        "if forma_pagamento == \"tabajaracard\":\n",
        "  valor_final = valor_total*0.95\n",
        "\n",
        "else:\n",
        "  valor_final = valor_total\n",
        "\n",
        "print(f\"\"\"\n",
        "-------------------------------------\n",
        "           Hipermercado Tabajara\n",
        "-------------------------------------\n",
        "              CUPOM FISCAL\n",
        "-------------------------------------\n",
        "QTDE  {qtos_kg} Kg\n",
        "-------------------------------------\n",
        "PRODUTO: {str(tipo_carne.upper())}\n",
        "-------------------------------------\n",
        "VALOR TOTAL R$ {valor_total:.2f}\n",
        "-------------------------------------\n",
        "TIPO DE PAGAMENTO: {str(forma_pagamento.upper())}\n",
        "-------------------------------------\n",
        "VALOR DO DESCONTO R${valor_total-valor_final:.2f}\n",
        "-------------------------------------\n",
        "VALOR A PAGAR: R${valor_final:.2f}\n",
        "\"\"\")\n"
      ]
    },
    {
      "cell_type": "markdown",
      "id": "b949545b",
      "metadata": {
        "id": "b949545b"
      },
      "source": [
        "#### 23. Faça um Programa para uma loja de tintas. O programa deverá pedir o tamanho em metros quadrados da área a ser pintada. Considere que a cobertura da tinta é de 1 litro para cada 6 metros quadrados e que a tinta é vendida em latas de 18 litros, que custam R\\\\$ 80,00 ou em galões de 3,6 litros, que custam R\\\\$ 25,00."
      ]
    },
    {
      "cell_type": "code",
      "execution_count": null,
      "id": "b11185b0",
      "metadata": {
        "id": "b11185b0"
      },
      "outputs": [],
      "source": [
        "area = float(input('Informe o tamanho da área a ser pintada em m²: '))\n",
        "litros_tinta = area / 6"
      ]
    },
    {
      "cell_type": "markdown",
      "id": "b3d0598f",
      "metadata": {
        "id": "b3d0598f"
      },
      "source": [
        "##### Informe ao usuário as quantidades de tinta a serem compradas e os respectivos preços em 3 situações.\n",
        "\n",
        "Dica: lembre dos operadores // e % mostrados em exercícios anteriores<br>\n",
        "Dica1: numero // 10 vai te dar como resposta a parte inteira da divisão do número por 10.<br>\n",
        "Dica2: numero % 10 vai te dar o resto da divisão do número por 10.\n",
        "\n",
        "##### 1. Comprar apenas latas de 18 litros: (apenas latas inteiras)"
      ]
    },
    {
      "cell_type": "code",
      "execution_count": null,
      "id": "ed599d53",
      "metadata": {
        "id": "ed599d53"
      },
      "outputs": [],
      "source": []
    },
    {
      "cell_type": "markdown",
      "id": "ab03bc10",
      "metadata": {
        "id": "ab03bc10"
      },
      "source": [
        "##### 2. Comprar apenas galões de 3,6 litros: (apenas galoes inteiros)"
      ]
    },
    {
      "cell_type": "code",
      "execution_count": null,
      "id": "542f4a77",
      "metadata": {
        "id": "542f4a77"
      },
      "outputs": [],
      "source": []
    },
    {
      "cell_type": "markdown",
      "source": [
        "##### 3. Misturar latas e galões, de forma que o desperdício de tinta seja menor. Acrescente 10% de folga e sempre arredonde os valores para cima, isto é, considere latas cheias."
      ],
      "metadata": {
        "id": "8Jbw7RupH9Nc"
      },
      "id": "8Jbw7RupH9Nc"
    },
    {
      "cell_type": "markdown",
      "id": "93d4157b",
      "metadata": {
        "id": "93d4157b"
      },
      "source": [
        "O custo da lata é 80/18 = 4,44 R\\\\$/L\n",
        "\n",
        "O custo do galão é 25/3,6 = 6,94 R\\\\$/L\n",
        "\n",
        "A lata é mais econômica, então todas as latas inteiras que pudermos usar devemos comprar em latas. Se ficar faltando alguma coisa para completar devemos avaliar se é melhor comprar latas ou galões. Exemplo:\n",
        "\n",
        "Se queremos comprar 90 litros. 5 latas dão exatamente 90 litros. Então devemos comprar tudo em latas.\n",
        "\n",
        "Se queremos comprar 95 litros. 5 latas dão exatamente 90 litros. Então devemos comprar pelo menos 5 latas e avaliar o que falta, se estes últimos 5 litros valem mais apenas em latas ou galões.\n",
        "\n",
        "Para os 5 litros faltantes precisamos de 2 galões que custam 50 reais no total. Ou de uma lata que custa 80 reais no total. Portanto, neste caso vale mais a pena usar 2 galões.\n",
        "\n",
        "Se queremos comprar 107 litros. 5 latas dão exatamente 90 litros. Então devemos comprar pelo menos 5 latas e avaliar o que falta, se estes últimos 5 litros valem mais apenas em latas ou galões.\n",
        "\n",
        "Para os 17 litros faltantes precisamos de 5 galões que custam 125 reais no total. Ou de uma lata que custa 80 reais no total. Portanto, neste caso vale mais a pena usar uma lata.\n",
        "\n",
        "3 galões custam 75 reais, 4 galões custam 100 reais. Então, se for possível completar com até 3 galões escolhe-se galões. Qualquer quantidade maior que 3 galões, usa-se latas.\n",
        "\n",
        "Podemos ir ao exercício:"
      ]
    },
    {
      "cell_type": "code",
      "execution_count": null,
      "id": "01d104b6",
      "metadata": {
        "id": "01d104b6"
      },
      "outputs": [],
      "source": []
    }
  ],
  "metadata": {
    "kernelspec": {
      "display_name": "Python 3 (ipykernel)",
      "language": "python",
      "name": "python3"
    },
    "language_info": {
      "codemirror_mode": {
        "name": "ipython",
        "version": 3
      },
      "file_extension": ".py",
      "mimetype": "text/x-python",
      "name": "python",
      "nbconvert_exporter": "python",
      "pygments_lexer": "ipython3",
      "version": "3.9.7"
    },
    "colab": {
      "provenance": [],
      "include_colab_link": true
    }
  },
  "nbformat": 4,
  "nbformat_minor": 5
}