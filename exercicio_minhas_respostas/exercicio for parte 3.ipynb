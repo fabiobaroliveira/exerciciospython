{
  "cells": [
    {
      "cell_type": "markdown",
      "metadata": {
        "id": "view-in-github",
        "colab_type": "text"
      },
      "source": [
        "<a href=\"https://colab.research.google.com/github/fabiobaroliveira/exerciciospython/blob/main/exercicio_minhas_respostas/exercicio%20for%20parte%203.ipynb\" target=\"_parent\"><img src=\"https://colab.research.google.com/assets/colab-badge.svg\" alt=\"Open In Colab\"/></a>"
      ]
    },
    {
      "cell_type": "markdown",
      "metadata": {
        "id": "PDCSXjVrQmUQ"
      },
      "source": [
        "# Exercícios\n",
        "\n",
        "## 1. Calculando % de uma lista\n",
        "\n",
        "Faremos algo parecido com \"filtrar\" uma lista. Mais pra frente no curso aprenderemos outras formas de fazer isso, mas com o nosso conhecimentoa atual já conseguimos resolver o desafio.\n",
        "\n",
        "Digamos que a gente tenha uma lista de vendedores e ao invés de saber todos os vendedores que bateram a meta, eu quero conseguir calcular o % de vendedores que bateram a meta. Ou seja, se temos 10 vendedores e 3 bateram a meta, temos 30% dos vendedores que bateram a meta."
      ]
    },
    {
      "cell_type": "code",
      "source": [
        "meta = 10000\n",
        "vendas = [\n",
        "    ['João', 15000],\n",
        "    ['Julia', 27000],\n",
        "    ['Marcus', 9900],\n",
        "    ['Maria', 3750],\n",
        "    ['Ana', 10300],\n",
        "    ['Alon', 7870],\n",
        "]\n",
        "#seu código aqui\n",
        "\n",
        "bateram_meta = 0\n",
        "\n",
        "for venda in vendas:\n",
        "    if venda[1] >= meta:\n",
        "        bateram_meta += 1\n",
        "\n",
        "print(f'{bateram_meta / len(vendas):.1%} dos vendedores bateram a meta')"
      ],
      "metadata": {
        "id": "PwpNG_eoRDos",
        "outputId": "9c24148b-2a34-4afb-ad63-6edc1604db61",
        "colab": {
          "base_uri": "https://localhost:8080/"
        }
      },
      "execution_count": 8,
      "outputs": [
        {
          "output_type": "stream",
          "name": "stdout",
          "text": [
            "50.0% dos vendedores bateram a meta\n"
          ]
        }
      ]
    },
    {
      "cell_type": "markdown",
      "metadata": {
        "id": "AtgAYl1oQmUV"
      },
      "source": [
        "- Vamos resolver de 2 formas:\n",
        "    1. Criando uma lista auxiliar apenas com os vendedores que bateram a meta\n",
        "    2. Fazendo o cálculo diretamente na lista que já temos"
      ]
    },
    {
      "cell_type": "markdown",
      "metadata": {
        "id": "bfKpFPLfQmUW"
      },
      "source": [
        "## Para treinar uma estrutura parecida, crie um código para responder: quem foi o vendedor que mais vendeu?"
      ]
    },
    {
      "cell_type": "code",
      "source": [
        "#seu código aqui\n",
        "\n",
        "vendedor_mais_vendeu = ''\n",
        "maior_vendas = 0\n",
        "\n",
        "for venda in vendas:\n",
        "    if venda[1] > maior_vendas:\n",
        "        maior_vendas = venda[1]\n",
        "        vendedor_mais_vendeu = venda[0]\n",
        "\n",
        "print(f'Vendedor: {vendedor_mais_vendeu}, Vendas: {maior_vendas}')"
      ],
      "metadata": {
        "id": "1BhnRKqYRc40",
        "outputId": "3b71deec-6dea-47f2-9aa8-1fb16905b1cb",
        "colab": {
          "base_uri": "https://localhost:8080/"
        }
      },
      "execution_count": 10,
      "outputs": [
        {
          "output_type": "stream",
          "name": "stdout",
          "text": [
            "Vendedor: Julia, Vendas: 27000\n"
          ]
        }
      ]
    }
  ],
  "metadata": {
    "kernelspec": {
      "display_name": "Python 3",
      "language": "python",
      "name": "python3"
    },
    "language_info": {
      "codemirror_mode": {
        "name": "ipython",
        "version": 3
      },
      "file_extension": ".py",
      "mimetype": "text/x-python",
      "name": "python",
      "nbconvert_exporter": "python",
      "pygments_lexer": "ipython3",
      "version": "3.8.3"
    },
    "colab": {
      "provenance": [],
      "include_colab_link": true
    }
  },
  "nbformat": 4,
  "nbformat_minor": 0
}