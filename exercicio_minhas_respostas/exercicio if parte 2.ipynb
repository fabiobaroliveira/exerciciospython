{
  "cells": [
    {
      "cell_type": "markdown",
      "metadata": {
        "id": "view-in-github",
        "colab_type": "text"
      },
      "source": [
        "<a href=\"https://colab.research.google.com/github/fabiobaroliveira/exerciciospython/blob/main/exercicio_minhas_respostas/exercicio%20if%20parte%202.ipynb\" target=\"_parent\"><img src=\"https://colab.research.google.com/assets/colab-badge.svg\" alt=\"Open In Colab\"/></a>"
      ]
    },
    {
      "cell_type": "markdown",
      "metadata": {
        "id": "Hq0Jd99lvzVR"
      },
      "source": [
        "# Exercícios"
      ]
    },
    {
      "cell_type": "markdown",
      "metadata": {
        "id": "q1RpuFn6vzVU"
      },
      "source": [
        "## 1. Criando um mini sistema de controle de estoque\n",
        "\n",
        "- Crie um sistema para ser usado pelo time de controle de estoque de um centro de distribuição.\n",
        "- Imagine que ao fim de todo dia, o time conta quantas unidades de produto existem no estoque. Se tivermos um estoque abaixo do estoque permitido para aquela categoria do produto, o time deve ser avisado (print) para fazer um novo pedido daquele produto.\n",
        "- Cada categoria de produto tem um estoque mínimo diferente, segundo a regra abaixo:\n",
        "\n",
        "- alimentos -> Estoque mínimo: 50\n",
        "- bebidas -> Estoque mínimo: 75\n",
        "- limpeza -> Estoque mínimo: 30\n",
        "\n",
        "Para isso vamos criar um programa que pede 3 inputs do usuário: nome do produto, categoria e quantidade atual em estoque.\n",
        "\n",
        "Se o produto tiver abaixo do estoque mínimo da categoria dele, o programa deve printar a mensagem \"Solicitar {produto} à equipe de compras, temos apenas {unidades} em estoque\"\n",
        "\n",
        "Exemplo: Se o usuário preenche os inputs com: bebidas, dolly, 90, o programa não deve exibir nenhuma mensagem.<br>\n",
        "Agora, se o usuário preenche os inputs com: bebidas, guaraná, 60, o programa deve exibir a mensagem \"Solicitar guaraná à equipe de compras, temos apenas 60 unidades em estoque.\n",
        "\n",
        "Obs: lembre de usar o int() para transformar o número inserido pelo usuário no input de string para int.<br>\n",
        "Obs2: Caso o usuário não preencha alguma das 3 informações, o programa deve exibir uma mensagem para avisá-lo de preencher corretamente."
      ]
    },
    {
      "cell_type": "code",
      "execution_count": 22,
      "metadata": {
        "id": "kkUA5CGSvzVW",
        "colab": {
          "base_uri": "https://localhost:8080/"
        },
        "outputId": "4924aa16-91d9-4d9e-9fd5-288dec25f756"
      },
      "outputs": [
        {
          "output_type": "stream",
          "name": "stdout",
          "text": [
            "Qual o nome do produto?coca cola\n",
            "Qual categoria?bebida\n",
            "Qual a quantidade atual?45\n",
            "\n",
            "           >> bebida << Categoria inválida!\n",
            "            Verifique as categorias existentes abaixo:\n",
            "            - alimentos\n",
            "            - bebidas\n",
            "            - limpeza        \n",
            "            \n",
            "            \n",
            "            \n"
          ]
        }
      ],
      "source": [
        "#seu código aqui\n",
        "\n",
        "produto = input(\"Qual o nome do produto?\")\n",
        "categoria = input(\"Qual categoria?\")\n",
        "qtd = input(\"Qual a quantidade atual?\")\n",
        "\n",
        "if produto and categoria and qtd:\n",
        "    #verificar se o número em quantidade foi preenchido com valor númerico\n",
        "    if qtd.isnumeric():\n",
        "        qtd = int(qtd)\n",
        "\n",
        "        if categoria == \"bebidas\":\n",
        "            if qtd < 75:\n",
        "                print(f\"Solicitar mais {produto} ao setor de compras, restam apenas {qtd} no estoque!\")\n",
        "        elif categoria == \"alimentos\":\n",
        "            if qtd <50:\n",
        "                print(f\"Solicitar mais {produto} ao setor de compras, restam apenas {qtd} no estoque!\")\n",
        "        elif categoria ==\"limpeza\":\n",
        "            if qtd <30:\n",
        "                print(f\"Solicitar mais {produto} ao setor de compras, restam apenas {qtd} no estoque!\")\n",
        "\n",
        "        #se digitar a categoria errada\n",
        "        elif categoria != \"bebidas\" and categoria != \"alimentos\" and categoria != \"limpeza\":\n",
        "            print(f\"\"\"\n",
        "           >> {categoria} << Categoria inválida!\n",
        "            Verifique as categorias existentes abaixo:\n",
        "            - alimentos\n",
        "            - bebidas\n",
        "            - limpeza\n",
        "\n",
        "\n",
        "            \"\"\")\n",
        "    #se o usuário colocou o numero por extenso, como \"dois\" por exemplo, solicita que corrija\n",
        "    elif not qtd.isnumeric():\n",
        "        print(\"Preencha quantidade com valor númerico!\")\n",
        "# se alguma informação ficou faltando\n",
        "else:\n",
        "  print(\"Preencha todas as informações!\")"
      ]
    },
    {
      "cell_type": "code",
      "source": [],
      "metadata": {
        "id": "5YCQpE-2L9io"
      },
      "execution_count": null,
      "outputs": []
    }
  ],
  "metadata": {
    "kernelspec": {
      "display_name": "Python 3",
      "language": "python",
      "name": "python3"
    },
    "language_info": {
      "codemirror_mode": {
        "name": "ipython",
        "version": 3
      },
      "file_extension": ".py",
      "mimetype": "text/x-python",
      "name": "python",
      "nbconvert_exporter": "python",
      "pygments_lexer": "ipython3",
      "version": "3.8.3"
    },
    "colab": {
      "provenance": [],
      "include_colab_link": true
    }
  },
  "nbformat": 4,
  "nbformat_minor": 0
}